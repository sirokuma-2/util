{
 "cells": [
  {
   "cell_type": "code",
   "execution_count": null,
   "id": "b893ada9",
   "metadata": {},
   "outputs": [],
   "source": [
    "pip install requests"
   ]
  },
  {
   "cell_type": "code",
   "execution_count": null,
   "id": "d2cee76d",
   "metadata": {},
   "outputs": [],
   "source": [
    "text ='***'"
   ]
  },
  {
   "cell_type": "code",
   "execution_count": null,
   "id": "ff55ca2f",
   "metadata": {},
   "outputs": [],
   "source": [
    "import requests\n",
    "\n",
    "TOKEN = '***''\n",
    "CHANNEL = '***'\n",
    "\n",
    "url = \"https://slack.com/api/chat.postMessage\"\n",
    "headers = {\"Authorization\": \"Bearer \"+TOKEN}\n",
    "data  = {\n",
    "   'channel': CHANNEL,\n",
    "   'text': text,\n",
    "   \"icon_emoji\": \":ghost:\"\n",
    "}\n",
    "r = requests.post(url, headers=headers, data=data)\n",
    "print(\"return \", r.json())"
   ]
  },
  {
   "cell_type": "code",
   "execution_count": null,
   "id": "2d23757d",
   "metadata": {
    "scrolled": true
   },
   "outputs": [],
   "source": [
    "import requests\n",
    "import json\n",
    "import pandas as pd\n",
    "import numpy as np\n",
    "import matplotlib\n",
    "\n",
    "\n",
    "url = \"https://slack.com/api/files.upload\"\n",
    "headers = {\"Authorization\": \"Bearer \"+TOKEN}\n",
    "\n",
    "###############\n",
    "# 画像送信ここから\n",
    "###############\n",
    "files = {'file': open(\"***.png\", 'rb')}\n",
    "\n",
    "\n",
    "r = requests.post(url=\"https://slack.com/api/files.upload\",headers=headers, data=data, files=files)\n",
    "#print(\"return \", r.json())"
   ]
  },
  {
   "cell_type": "code",
   "execution_count": null,
   "id": "21396d0a",
   "metadata": {},
   "outputs": [],
   "source": [
    "import os\n",
    "import requests\n",
    "import json\n",
    "\n",
    "\n",
    "# ファイルをアップロード\n",
    "token = TOKEN\n",
    "\n",
    "filepath = \"***.jpg\"\n",
    "\n",
    "channel_ids = \",\".join([\"***\"])\n",
    "\n",
    "with open(filepath, \"rb\") as f:\n",
    "    # 2A. request header を使ったトークン指定（推奨）\n",
    "    response = requests.post(\n",
    "        url=\"https://slack.com/api/files.upload\",\n",
    "        headers={\"Authorization\": f\"Bearer {token}\"},\n",
    "        params={\"channels\": channel_ids},\n",
    "        files={\"file\": f},\n",
    "    )\n",
    "    #print(json.dumps(response.json(), indent=4, sort_keys=True))"
   ]
  },
  {
   "cell_type": "code",
   "execution_count": null,
   "id": "d63e5641",
   "metadata": {},
   "outputs": [],
   "source": [
    "#END"
   ]
  }
 ],
 "metadata": {
  "kernelspec": {
   "display_name": "Python 3",
   "language": "python",
   "name": "python3"
  },
  "language_info": {
   "codemirror_mode": {
    "name": "ipython",
    "version": 3
   },
   "file_extension": ".py",
   "mimetype": "text/x-python",
   "name": "python",
   "nbconvert_exporter": "python",
   "pygments_lexer": "ipython3",
   "version": "3.8.8"
  }
 },
 "nbformat": 4,
 "nbformat_minor": 5
}
