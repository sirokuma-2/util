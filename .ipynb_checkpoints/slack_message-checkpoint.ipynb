{
 "cells": [
  {
   "cell_type": "code",
   "execution_count": 2,
   "id": "b893ada9",
   "metadata": {},
   "outputs": [
    {
     "name": "stdout",
     "output_type": "stream",
     "text": [
      "Requirement already satisfied: requests in /opt/anaconda3/lib/python3.8/site-packages (2.25.1)\n",
      "Requirement already satisfied: certifi>=2017.4.17 in /opt/anaconda3/lib/python3.8/site-packages (from requests) (2020.12.5)\n",
      "Requirement already satisfied: chardet<5,>=3.0.2 in /opt/anaconda3/lib/python3.8/site-packages (from requests) (4.0.0)\n",
      "Requirement already satisfied: idna<3,>=2.5 in /opt/anaconda3/lib/python3.8/site-packages (from requests) (2.10)\n",
      "Requirement already satisfied: urllib3<1.27,>=1.21.1 in /opt/anaconda3/lib/python3.8/site-packages (from requests) (1.26.4)\n",
      "Note: you may need to restart the kernel to use updated packages.\n"
     ]
    }
   ],
   "source": [
    "pip install requests"
   ]
  },
  {
   "cell_type": "code",
   "execution_count": 3,
   "id": "d2cee76d",
   "metadata": {},
   "outputs": [],
   "source": [
    "text ='***'"
   ]
  },
  {
   "cell_type": "code",
   "execution_count": 4,
   "id": "ff55ca2f",
   "metadata": {},
   "outputs": [
    {
     "name": "stdout",
     "output_type": "stream",
     "text": [
      "return  {'ok': True, 'channel': 'C027171MVH9', 'ts': '1655798982.007099', 'message': {'type': 'message', 'subtype': 'bot_message', 'text': '今日の市場レポートです', 'ts': '1655798982.007099', 'username': 'stock-market', 'icons': {'emoji': ':ghost:'}, 'bot_id': 'B03LXBL5KRN', 'app_id': 'A03L7JUCCAE'}}\n"
     ]
    }
   ],
   "source": [
    "import requests\n",
    "\n",
    "TOKEN = '***''\n",
    "CHANNEL = '***'\n",
    "\n",
    "url = \"https://slack.com/api/chat.postMessage\"\n",
    "headers = {\"Authorization\": \"Bearer \"+TOKEN}\n",
    "data  = {\n",
    "   'channel': CHANNEL,\n",
    "   'text': text,\n",
    "   \"icon_emoji\": \":ghost:\"\n",
    "}\n",
    "r = requests.post(url, headers=headers, data=data)\n",
    "print(\"return \", r.json())"
   ]
  },
  {
   "cell_type": "code",
   "execution_count": 5,
   "id": "2d23757d",
   "metadata": {
    "scrolled": true
   },
   "outputs": [],
   "source": [
    "import requests\n",
    "import json\n",
    "import pandas as pd\n",
    "import numpy as np\n",
    "import matplotlib\n",
    "\n",
    "\n",
    "url = \"https://slack.com/api/files.upload\"\n",
    "headers = {\"Authorization\": \"Bearer \"+TOKEN}\n",
    "\n",
    "###############\n",
    "# 画像送信ここから\n",
    "###############\n",
    "files = {'file': open(\"***.png\", 'rb')}\n",
    "\n",
    "\n",
    "r = requests.post(url=\"https://slack.com/api/files.upload\",headers=headers, data=data, files=files)\n",
    "#print(\"return \", r.json())"
   ]
  },
  {
   "cell_type": "code",
   "execution_count": 6,
   "id": "21396d0a",
   "metadata": {},
   "outputs": [],
   "source": [
    "import os\n",
    "import requests\n",
    "import json\n",
    "\n",
    "\n",
    "# ファイルをアップロード\n",
    "token = TOKEN\n",
    "\n",
    "filepath = \"***.jpg\"\n",
    "\n",
    "channel_ids = \",\".join([\"***\"])\n",
    "\n",
    "with open(filepath, \"rb\") as f:\n",
    "    # 2A. request header を使ったトークン指定（推奨）\n",
    "    response = requests.post(\n",
    "        url=\"https://slack.com/api/files.upload\",\n",
    "        headers={\"Authorization\": f\"Bearer {token}\"},\n",
    "        params={\"channels\": channel_ids},\n",
    "        files={\"file\": f},\n",
    "    )\n",
    "    #print(json.dumps(response.json(), indent=4, sort_keys=True))"
   ]
  },
  {
   "cell_type": "code",
   "execution_count": null,
   "id": "dbb1e700",
   "metadata": {},
   "outputs": [],
   "source": [
    "#END"
   ]
  }
 ],
 "metadata": {
  "kernelspec": {
   "display_name": "Python 3",
   "language": "python",
   "name": "python3"
  },
  "language_info": {
   "codemirror_mode": {
    "name": "ipython",
    "version": 3
   },
   "file_extension": ".py",
   "mimetype": "text/x-python",
   "name": "python",
   "nbconvert_exporter": "python",
   "pygments_lexer": "ipython3",
   "version": "3.8.8"
  }
 },
 "nbformat": 4,
 "nbformat_minor": 5
}
